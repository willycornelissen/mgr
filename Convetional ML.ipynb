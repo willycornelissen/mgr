{
 "cells": [
  {
   "cell_type": "code",
   "execution_count": 1,
   "metadata": {},
   "outputs": [],
   "source": [
    "import librosa\n",
    "import os\n",
    "import time\n",
    "import numpy as np\n",
    "import warnings\n",
    "warnings.filterwarnings('ignore')"
   ]
  },
  {
   "cell_type": "code",
   "execution_count": 2,
   "metadata": {},
   "outputs": [],
   "source": [
    "from sklearn.model_selection import GridSearchCV\n",
    "from sklearn.model_selection import cross_val_score\n",
    "\n",
    "# Load data from numpy file\n",
    "X =  np.load('data/features.npy')\n",
    "y =  np.load('data/label.npy').ravel()"
   ]
  },
  {
   "cell_type": "code",
   "execution_count": 18,
   "metadata": {},
   "outputs": [],
   "source": [
    "from sklearn.svm import SVC\n",
    "from sklearn.svm import LinearSVC\n",
    "\n",
    "\n",
    "class SVMClassifier():\n",
    "    \n",
    "    def __init__(self, X, y):\n",
    "        self.X = X\n",
    "        self.y = y\n",
    "\n",
    "    def classify(self, tuned=False, baseline=False):\n",
    "        if (tuned):\n",
    "            parameters = {'kernel':('linear','rbf'), 'C':[1,10]}\n",
    "            svc = SVC()\n",
    "            model = GridSearchCV(svc, parameters)\n",
    "        else:\n",
    "            model = LinearSVC(C=10, loss='squared_hinge', penalty='l2', tol=0.00001)\n",
    "        model.fit(X,y)\n",
    "        score = cross_val_score(model, X, y, cv=5)\n",
    "        return np.mean(score)"
   ]
  },
  {
   "cell_type": "code",
   "execution_count": 29,
   "metadata": {},
   "outputs": [
    {
     "name": "stdout",
     "output_type": "stream",
     "text": [
      "Support Vector Machine:\n",
      "Accuracy:  57.8 %\n",
      "Time:  9.07  seconds.\n",
      "\n",
      "Support Vector Machine Tuned:\n",
      "Accuracy:  65.1 %\n",
      "Time:  22.07  seconds.\n"
     ]
    }
   ],
   "source": [
    "# SVM\n",
    "print(\"Support Vector Machine:\")\n",
    "start=time.time()\n",
    "model = SVMClassifier(X, y)\n",
    "SVM_score=model.classify()\n",
    "end = time.time()\n",
    "SVM_time = end - start\n",
    "print(\"Accuracy: \", SVM_score * 100,\"%\")\n",
    "print(\"Time: \", round(SVM_time,2), \" seconds.\")\n",
    "\n",
    "# SVM Tuned\n",
    "print(\"\\nSupport Vector Machine tuned:\")\n",
    "start=time.time()\n",
    "model = SVMClassifier(X, y)\n",
    "SVM_score_tuned=model.classify(tuned=True)\n",
    "end = time.time()\n",
    "SVM_time_tuned = end - start\n",
    "print(\"Accuracy: \", SVM_score_tuned * 100,\"%\")\n",
    "print(\"Time: \", round(SVM_time_tuned,2), \" seconds.\")"
   ]
  },
  {
   "cell_type": "code",
   "execution_count": 5,
   "metadata": {},
   "outputs": [],
   "source": [
    "from sklearn.neighbors import KNeighborsClassifier\n",
    "\n",
    "\n",
    "class KNNClassifier:\n",
    "    \n",
    "    def __init__(self, X, y):\n",
    "        self.X = X\n",
    "        self.y = y\n",
    "\n",
    "    def classify(self, tuned=False):\n",
    "        if (tuned):\n",
    "            metrics       = ['minkowski','euclidean','manhattan'] \n",
    "            weights       = ['uniform','distance']\n",
    "            numNeighbors  = np.arange(5,10)\n",
    "            parameters    = dict(metric=metrics,weights=weights,n_neighbors=numNeighbors)\n",
    "            knn = KNeighborsClassifier()\n",
    "            model = GridSearchCV(knn,parameters)\n",
    "        else:\n",
    "            model = KNeighborsClassifier(n_neighbors=5, weights='uniform', algorithm='auto', leaf_size=30, p=2,\n",
    "                                   metric='minkowski', metric_params=None, n_jobs=1)\n",
    "        model.fit(X, y)\n",
    "        score = cross_val_score(model, X, y, cv=5)\n",
    "        return np.mean(score)"
   ]
  },
  {
   "cell_type": "code",
   "execution_count": 6,
   "metadata": {},
   "outputs": [
    {
     "name": "stdout",
     "output_type": "stream",
     "text": [
      "K-Nearest Neighbor:\n",
      "Accuracy:  56.0 %\n",
      "Time:  0.19  seconds.\n",
      "\n",
      "K-Nearest Neighbor tuned:\n",
      "Accuracy:  63.5 %\n",
      "Time:  72.02  seconds.\n"
     ]
    }
   ],
   "source": [
    "# KNN\n",
    "print(\"K-Nearest Neighbor:\")\n",
    "start=time.time()\n",
    "model = KNNClassifier(X, y)\n",
    "KNN_score=model.classify()\n",
    "end = time.time()\n",
    "KNN_time = end - start\n",
    "print(\"Accuracy: \", KNN_score * 100,\"%\")\n",
    "print(\"Time: \", round(KNN_time,2), \" seconds.\")\n",
    "\n",
    "# KNN tuned\n",
    "print(\"\\nK-Nearest Neighbor tuned:\")\n",
    "start=time.time()\n",
    "model = KNNClassifier(X, y)\n",
    "KNN_score_tuned=model.classify(tuned=True)\n",
    "end = time.time()\n",
    "KNN_time_tuned = end - start\n",
    "print(\"Accuracy: \", KNN_score_tuned * 100,\"%\")\n",
    "print(\"Time: \", round(KNN_time_tuned,2), \" seconds.\")"
   ]
  },
  {
   "cell_type": "code",
   "execution_count": 11,
   "metadata": {},
   "outputs": [],
   "source": [
    "from sklearn.tree import DecisionTreeClassifier\n",
    "\n",
    "class DecisionTree:\n",
    "    def __init__(self, X, y):\n",
    "        self.X = X\n",
    "        self.y = y\n",
    "\n",
    "    def classify(self, tuned=False):\n",
    "        if (tuned):\n",
    "            tree = DecisionTreeClassifier()\n",
    "            parameters = {'criterion':['gini','entropy'],\n",
    "                          'max_depth':[4,5,6,7,8,9,10,11,12,15,20,30,40,50,70,90,120,150]}\n",
    "            model = GridSearchCV(tree, parameters)\n",
    "        else:\n",
    "            model = DecisionTreeClassifier(criterion='entropy', max_depth=6)\n",
    "        model.fit(X,y)\n",
    "        score = cross_val_score(model, X, y, cv=5)\n",
    "        return np.mean(score)"
   ]
  },
  {
   "cell_type": "code",
   "execution_count": 13,
   "metadata": {},
   "outputs": [
    {
     "name": "stdout",
     "output_type": "stream",
     "text": [
      "Decision Tree:\n",
      "Accuracy:  48.6 %\n",
      "Time:  3.38  seconds.\n",
      "\n",
      "Decision Tree tuned:\n",
      "Accuracy:  49.7 %\n",
      "Time:  165.8  seconds.\n"
     ]
    }
   ],
   "source": [
    "# Decision Tree\n",
    "print(\"Decision Tree:\")\n",
    "start=time.time()\n",
    "model = DecisionTree(X, y)\n",
    "Tree_score=model.classify()\n",
    "end = time.time()\n",
    "Tree_time = end - start\n",
    "print(\"Accuracy: \", Tree_score * 100,\"%\")\n",
    "print(\"Time: \", round(Tree_time,2), \" seconds.\")\n",
    "\n",
    "# Decision Tree tuned\n",
    "print(\"\\nDecision Tree tuned:\")\n",
    "start=time.time()\n",
    "model = DecisionTree(X, y)\n",
    "Tree_score_tuned=model.classify(tuned=True)\n",
    "end = time.time()\n",
    "Tree_time_tuned = end - start\n",
    "print(\"Accuracy: \", Tree_score_tuned * 100,\"%\")\n",
    "print(\"Time: \", round(Tree_time_tuned,2), \" seconds.\")"
   ]
  },
  {
   "cell_type": "code",
   "execution_count": 22,
   "metadata": {},
   "outputs": [],
   "source": [
    "from sklearn.linear_model import LogisticRegression\n",
    "\n",
    "\n",
    "class LogisticRegressionClassifier:\n",
    "    def __init__(self, X, y, tuned=False):\n",
    "        self.X = X\n",
    "        self.y = y\n",
    "\n",
    "    def classify(self, tuned=False):\n",
    "        if (tuned):\n",
    "            log = LogisticRegression()\n",
    "            parameters = {'C': [0.001, 0.01, 0.1, 1, 10, 100, 1000] }\n",
    "            model = GridSearchCV(log, parameters)\n",
    "            \n",
    "        else:\n",
    "            model = LogisticRegression(penalty='l2', dual=False, tol=0.0001, C=1.0, fit_intercept=True, intercept_scaling=1,\n",
    "                                     class_weight=None, random_state=None, solver='liblinear', max_iter=500,\n",
    "                                     multi_class='ovr',\n",
    "                                     verbose=0, warm_start=False, n_jobs=1)\n",
    "        model.fit(X,y)\n",
    "        scoreLR = cross_val_score(model, X, y, cv=5)\n",
    "        return np.mean(scoreLR)"
   ]
  },
  {
   "cell_type": "code",
   "execution_count": 23,
   "metadata": {},
   "outputs": [
    {
     "name": "stdout",
     "output_type": "stream",
     "text": [
      "Logistic Regression:\n",
      "Accuracy:  62.3 %\n",
      "Time:  17.39  seconds.\n",
      "\n",
      "Logistic Regression tuned:\n",
      "Accuracy:  65.1 %\n",
      "Time:  181.17  seconds.\n"
     ]
    }
   ],
   "source": [
    "# Logistic Regression\n",
    "model = LogisticRegressionClassifier(X, y)\n",
    "print(\"Logistic Regression:\")\n",
    "start=time.time()\n",
    "Logistic_score=model.classify()\n",
    "end = time.time()\n",
    "Logistic_time = end - start\n",
    "print(\"Accuracy: \", Logistic_score * 100,\"%\")\n",
    "print(\"Time: \", round(Logistic_time,2), \" seconds.\")\n",
    "\n",
    "# Logistic Regression tuned\n",
    "print(\"\\nLogistic Regression tuned:\")\n",
    "start=time.time()\n",
    "Logistic_score_tuned=model.classify(tuned=True)\n",
    "end = time.time()\n",
    "Logistic_time_tuned = end - start\n",
    "print(\"Accuracy: \", Logistic_score_tuned * 100,\"%\")\n",
    "print(\"Time: \", round(Logistic_time_tuned,2), \" seconds.\")"
   ]
  },
  {
   "cell_type": "code",
   "execution_count": 28,
   "metadata": {},
   "outputs": [],
   "source": [
    "from sklearn.linear_model import Perceptron\n",
    "\n",
    "class PerceptronClassifier:\n",
    "    def __init__(self, X, y):\n",
    "        self.X = X\n",
    "        self.y = y\n",
    "\n",
    "    def classify(self):\n",
    "        model = Perceptron(penalty=None, alpha=0.01, fit_intercept=True, n_iter=5000, shuffle=True, \n",
    "                               verbose=0, eta0=1.0,n_jobs=1, random_state=0, class_weight=None, warm_start=False)\n",
    "        model.fit(X,y)\n",
    "        scorePerceptron = cross_val_score(model, X, y, cv=5)\n",
    "        return np.mean(scorePerceptron)"
   ]
  },
  {
   "cell_type": "code",
   "execution_count": 29,
   "metadata": {},
   "outputs": [
    {
     "name": "stdout",
     "output_type": "stream",
     "text": [
      "Perceptron:\n",
      "Accuracy:  58.8 %\n",
      "Time:  68.76  seconds.\n"
     ]
    }
   ],
   "source": [
    "# Perceptron\n",
    "model = PerceptronClassifier(X, y)\n",
    "print(\"Perceptron:\")\n",
    "start=time.time()\n",
    "Preceptron_score=model.classify()\n",
    "end = time.time()\n",
    "Perceptron_time = end - start\n",
    "print(\"Accuracy: \", Preceptron_score * 100,\"%\")\n",
    "print(\"Time: \", round(Perceptron_time,2), \" seconds.\")"
   ]
  },
  {
   "cell_type": "code",
   "execution_count": 30,
   "metadata": {},
   "outputs": [],
   "source": [
    "from xgboost import XGBClassifier\n",
    "\n",
    "class XGB:\n",
    "    def __init__(self, X, y):\n",
    "        self.X = X\n",
    "        self.y = y\n",
    "        \n",
    "    def classify(self, tuned=False):\n",
    "        if (tuned):\n",
    "            parameters = {'max_depth': [2,4,6],'n_estimators': [50,100,200]}\n",
    "            model = XGBClassifier()\n",
    "            model = GridSearchCV(model, parameters, verbose=1)\n",
    "            model.fit(X,y)\n",
    "        else:\n",
    "            model = XGBClassifier()\n",
    "            model.fit(X,y)\n",
    "        score = cross_val_score(model, X, y, cv=5)\n",
    "        return np.mean(score)"
   ]
  },
  {
   "cell_type": "code",
   "execution_count": 31,
   "metadata": {},
   "outputs": [
    {
     "name": "stdout",
     "output_type": "stream",
     "text": [
      "XGBoosting:\n",
      "XGBoosting Score:  0.691\n",
      "Accuracy:  69.1 %\n",
      "Time:  57.48  seconds.\n",
      "\n",
      "Logistic Regression tuned:\n",
      "Fitting 3 folds for each of 9 candidates, totalling 27 fits\n"
     ]
    },
    {
     "name": "stderr",
     "output_type": "stream",
     "text": [
      "[Parallel(n_jobs=1)]: Done  27 out of  27 | elapsed:  4.3min finished\n"
     ]
    },
    {
     "name": "stdout",
     "output_type": "stream",
     "text": [
      "Fitting 3 folds for each of 9 candidates, totalling 27 fits\n"
     ]
    },
    {
     "name": "stderr",
     "output_type": "stream",
     "text": [
      "[Parallel(n_jobs=1)]: Done  27 out of  27 | elapsed:  2.7min finished\n"
     ]
    },
    {
     "name": "stdout",
     "output_type": "stream",
     "text": [
      "Fitting 3 folds for each of 9 candidates, totalling 27 fits\n"
     ]
    },
    {
     "name": "stderr",
     "output_type": "stream",
     "text": [
      "[Parallel(n_jobs=1)]: Done  27 out of  27 | elapsed:  2.8min finished\n"
     ]
    },
    {
     "name": "stdout",
     "output_type": "stream",
     "text": [
      "Fitting 3 folds for each of 9 candidates, totalling 27 fits\n"
     ]
    },
    {
     "name": "stderr",
     "output_type": "stream",
     "text": [
      "[Parallel(n_jobs=1)]: Done  27 out of  27 | elapsed:  2.7min finished\n"
     ]
    },
    {
     "name": "stdout",
     "output_type": "stream",
     "text": [
      "Fitting 3 folds for each of 9 candidates, totalling 27 fits\n"
     ]
    },
    {
     "name": "stderr",
     "output_type": "stream",
     "text": [
      "[Parallel(n_jobs=1)]: Done  27 out of  27 | elapsed:  2.7min finished\n"
     ]
    },
    {
     "name": "stdout",
     "output_type": "stream",
     "text": [
      "Fitting 3 folds for each of 9 candidates, totalling 27 fits\n"
     ]
    },
    {
     "name": "stderr",
     "output_type": "stream",
     "text": [
      "[Parallel(n_jobs=1)]: Done  27 out of  27 | elapsed:  2.7min finished\n"
     ]
    },
    {
     "name": "stdout",
     "output_type": "stream",
     "text": [
      "XGBoosting Score:  0.699\n",
      "Accuracy:  69.9 %\n",
      "Time:  1177.59  seconds.\n"
     ]
    }
   ],
   "source": [
    "# XGBoosting\n",
    "model = XGB(X, y)\n",
    "print(\"XGBoosting:\")\n",
    "start=time.time()\n",
    "XGB_score=model.classify()\n",
    "end = time.time()\n",
    "XGB_time = end - start\n",
    "print(\"Accuracy: \", XGB_score * 100,\"%\")\n",
    "print(\"Time: \", round(XGB_time,2), \" seconds.\")\n",
    "\n",
    "# Logistic Regression tuned\n",
    "print(\"\\nLogistic Regression tuned:\")\n",
    "start=time.time()\n",
    "XGB_score_tuned=model.classify(tuned=True)\n",
    "end = time.time()\n",
    "XGB_time_tuned = end - start\n",
    "print(\"Accuracy: \", XGB_score_tuned * 100,\"%\")\n",
    "print(\"Time: \", round(XGB_time_tuned,2), \" seconds.\")"
   ]
  },
  {
   "cell_type": "code",
   "execution_count": 5,
   "metadata": {},
   "outputs": [],
   "source": [
    "import autosklearn.classification\n",
    "from sklearn.model_selection import train_test_split\n",
    "\n",
    "# Split data into training and test subsets\n",
    "X_train, X_test, y_train, y_test = train_test_split(X, y, test_size=0.3, random_state=0)"
   ]
  },
  {
   "cell_type": "code",
   "execution_count": null,
   "metadata": {},
   "outputs": [],
   "source": [
    "automl = autosklearn.classification.AutoSklearnClassifier()\n",
    "automl.fit(X_train, y_train)\n",
    "y_hat = automl.predict(X_test)\n",
    "print(\"Accuracy score\", sklearn.metrics.accuracy_score(y_test, y_hat))"
   ]
  },
  {
   "cell_type": "code",
   "execution_count": null,
   "metadata": {},
   "outputs": [],
   "source": [
    "from sklearn.discriminant_analysis import LinearDiscriminantAnalysis\n",
    "from sklearn.cross_validation import StratifiedKFold\n",
    "k = 10\n",
    "skf = StratifiedKFold(labels,n_folds=k)\n",
    "averageError = 0.0\n",
    "for train_index, test_index in skf:\n",
    "    X_train, X_test = mfcc[:,train_index], mfcc[:,test_index]\n",
    "    y_train, y_test = labels[train_index], labels[test_index]\n",
    "    clf = LinearDiscriminantAnalysis()\n",
    "    clf.fit(X_train.T,y_train)\n",
    "    y_pred = clf.predict(X_test.T)\n",
    "    error = zero_one_loss(y_pred,y_test)\n",
    "    print error\n",
    "    averageError += (1./k) * error\n",
    "print \"Average error: %4.2f%s\" % (100 * averageError,'%')"
   ]
  }
 ],
 "metadata": {
  "kernelspec": {
   "display_name": "Python 3",
   "language": "python",
   "name": "python3"
  },
  "language_info": {
   "codemirror_mode": {
    "name": "ipython",
    "version": 3
   },
   "file_extension": ".py",
   "mimetype": "text/x-python",
   "name": "python",
   "nbconvert_exporter": "python",
   "pygments_lexer": "ipython3",
   "version": "3.6.4"
  }
 },
 "nbformat": 4,
 "nbformat_minor": 2
}
