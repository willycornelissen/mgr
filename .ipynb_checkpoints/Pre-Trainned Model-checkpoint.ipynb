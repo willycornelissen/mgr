{
 "cells": [
  {
   "cell_type": "code",
   "execution_count": 71,
   "metadata": {},
   "outputs": [],
   "source": [
    "import librosa\n",
    "import os\n",
    "import time\n",
    "import numpy as np\n",
    "import fnmatch\n",
    "import warnings\n",
    "warnings.filterwarnings('ignore')\n",
    "from keras.models import load_model\n",
    "\n",
    "import librosa as lbr\n",
    "import keras.backend as K"
   ]
  },
  {
   "cell_type": "code",
   "execution_count": 72,
   "metadata": {},
   "outputs": [],
   "source": [
    "WINDOW_SIZE = 2048\n",
    "WINDOW_STRIDE = WINDOW_SIZE // 2\n",
    "N_MELS = 128\n",
    "MEL_KWARGS = {\n",
    "    'n_fft': WINDOW_SIZE,\n",
    "    'hop_length': WINDOW_STRIDE,\n",
    "    'n_mels': N_MELS\n",
    "}\n",
    "GENRE_LOOKUP=['Blues','Classical','Country','Disco','Hip-Hop','Jazz','Metal','Pop','Reggae',\"Rock\"]"
   ]
  },
  {
   "cell_type": "code",
   "execution_count": 73,
   "metadata": {},
   "outputs": [],
   "source": [
    "def load_melspectrogram_track(filename, enforce_shape=None):\n",
    "    new_input, sample_rate = lbr.load(filename, mono=True)\n",
    "    features = lbr.feature.melspectrogram(new_input, **MEL_KWARGS).T\n",
    "\n",
    "    if enforce_shape is not None:\n",
    "        if features.shape[0] < enforce_shape[0]:\n",
    "            delta_shape = (enforce_shape[0] - features.shape[0],\n",
    "                    enforce_shape[1])\n",
    "            features = np.append(features, np.zeros(delta_shape), axis=0)\n",
    "        elif features.shape[0] > enforce_shape[0]:\n",
    "            offset = features.shape[0] - enforce_shape[0]\n",
    "            features = features[offset :, :]\n",
    "\n",
    "    features[features == 0] = 1e-6\n",
    "    return (np.log(features), float(new_input.shape[0]) / sample_rate)"
   ]
  },
  {
   "cell_type": "code",
   "execution_count": 74,
   "metadata": {},
   "outputs": [],
   "source": [
    "data_set_path='genres/'\n",
    "file_meta=file = open('meta.txt','w')\n",
    "output_file=open('output.txt','w')\n",
    "file_list=[]\n",
    "extension='au'\n",
    "DEFAULT_SHAPE=(647,128)"
   ]
  },
  {
   "cell_type": "code",
   "execution_count": 75,
   "metadata": {},
   "outputs": [],
   "source": [
    "def create_data_pickle():\n",
    "    output=np.array([])\n",
    "    id=1\n",
    "    for root, dirnames, filenames in os.walk(data_set_path):\n",
    "        for filename in fnmatch.filter(filenames, '*.' + extension):\n",
    "            full_file_path=os.path.join(root, filename)\n",
    "            print('Processing '+full_file_path)\n",
    "            file_list.append(full_file_path)\n",
    "            file_meta.write(str(id)+'|'+full_file_path+'\\n')\n",
    "            mel_output,_=load_track(full_file_path,DEFAULT_SHAPE)\n",
    "            mel_output=np.expand_dims(mel_output, axis=0)\n",
    "            if output.shape[0] == 0:\n",
    "                output=mel_output\n",
    "            else:\n",
    "                output=np.vstack((output,mel_output))\n",
    "    print(output.shape)\n",
    "    return output"
   ]
  },
  {
   "cell_type": "code",
   "execution_count": null,
   "metadata": {},
   "outputs": [],
   "source": [
    "def save(data):\n",
    "    "
   ]
  },
  {
   "cell_type": "code",
   "execution_count": 80,
   "metadata": {},
   "outputs": [],
   "source": [
    "def predict(data):\n",
    "    model=load_model('model/crnn_net_gru_adam_ours_epoch_40.h5')\n",
    "    output = model.predict(data)\n",
    "    predicted = np.argmax(output, axis=1)\n",
    "    print (\"Predicted Shape:\",predicted.shape)\n",
    "    for i in range(0,len(predicted)):\n",
    "        predicted_genre=GENRE_LOOKUP[predicted[i]]\n",
    "        print(\"Predicted Genre:\", predicted_genre)\n",
    "    return predicted"
   ]
  },
  {
   "cell_type": "code",
   "execution_count": 82,
   "metadata": {},
   "outputs": [
    {
     "name": "stdout",
     "output_type": "stream",
     "text": [
      "Processing test/Metal.au\n",
      "Processing test/Blues.au\n",
      "Processing test/Pop..au\n",
      "Processing test/Hiphop.au\n",
      "Processing test/Rock.au\n",
      "Processing test/Jazz..au\n",
      "Processing test/Classical.au\n",
      "Processing test/Disco.au\n",
      "Processing test/Reggae.au\n",
      "Processing test/Country.au\n",
      "(10, 647, 128)\n"
     ]
    }
   ],
   "source": [
    "data=create_data_pickle()"
   ]
  },
  {
   "cell_type": "code",
   "execution_count": 84,
   "metadata": {},
   "outputs": [
    {
     "ename": "ValueError",
     "evalue": "No model found in config file.",
     "output_type": "error",
     "traceback": [
      "\u001b[0;31m---------------------------------------------------------------------------\u001b[0m",
      "\u001b[0;31mValueError\u001b[0m                                Traceback (most recent call last)",
      "\u001b[0;32m<ipython-input-84-33a90e026b89>\u001b[0m in \u001b[0;36m<module>\u001b[0;34m()\u001b[0m\n\u001b[0;32m----> 1\u001b[0;31m \u001b[0mmodel\u001b[0m\u001b[0;34m=\u001b[0m\u001b[0mload_model\u001b[0m\u001b[0;34m(\u001b[0m\u001b[0;34m'model/crnn_net_gru_adam_ours_epoch_40.h5'\u001b[0m\u001b[0;34m)\u001b[0m\u001b[0;34m\u001b[0m\u001b[0m\n\u001b[0m",
      "\u001b[0;32m~/anaconda3/lib/python3.6/site-packages/keras/models.py\u001b[0m in \u001b[0;36mload_model\u001b[0;34m(filepath, custom_objects, compile)\u001b[0m\n\u001b[1;32m    239\u001b[0m         \u001b[0mmodel_config\u001b[0m \u001b[0;34m=\u001b[0m \u001b[0mf\u001b[0m\u001b[0;34m.\u001b[0m\u001b[0mattrs\u001b[0m\u001b[0;34m.\u001b[0m\u001b[0mget\u001b[0m\u001b[0;34m(\u001b[0m\u001b[0;34m'model_config'\u001b[0m\u001b[0;34m)\u001b[0m\u001b[0;34m\u001b[0m\u001b[0m\n\u001b[1;32m    240\u001b[0m         \u001b[0;32mif\u001b[0m \u001b[0mmodel_config\u001b[0m \u001b[0;32mis\u001b[0m \u001b[0;32mNone\u001b[0m\u001b[0;34m:\u001b[0m\u001b[0;34m\u001b[0m\u001b[0m\n\u001b[0;32m--> 241\u001b[0;31m             \u001b[0;32mraise\u001b[0m \u001b[0mValueError\u001b[0m\u001b[0;34m(\u001b[0m\u001b[0;34m'No model found in config file.'\u001b[0m\u001b[0;34m)\u001b[0m\u001b[0;34m\u001b[0m\u001b[0m\n\u001b[0m\u001b[1;32m    242\u001b[0m         \u001b[0mmodel_config\u001b[0m \u001b[0;34m=\u001b[0m \u001b[0mjson\u001b[0m\u001b[0;34m.\u001b[0m\u001b[0mloads\u001b[0m\u001b[0;34m(\u001b[0m\u001b[0mmodel_config\u001b[0m\u001b[0;34m.\u001b[0m\u001b[0mdecode\u001b[0m\u001b[0;34m(\u001b[0m\u001b[0;34m'utf-8'\u001b[0m\u001b[0;34m)\u001b[0m\u001b[0;34m)\u001b[0m\u001b[0;34m\u001b[0m\u001b[0m\n\u001b[1;32m    243\u001b[0m         \u001b[0mmodel\u001b[0m \u001b[0;34m=\u001b[0m \u001b[0mmodel_from_config\u001b[0m\u001b[0;34m(\u001b[0m\u001b[0mmodel_config\u001b[0m\u001b[0;34m,\u001b[0m \u001b[0mcustom_objects\u001b[0m\u001b[0;34m=\u001b[0m\u001b[0mcustom_objects\u001b[0m\u001b[0;34m)\u001b[0m\u001b[0;34m\u001b[0m\u001b[0m\n",
      "\u001b[0;31mValueError\u001b[0m: No model found in config file."
     ]
    }
   ],
   "source": [
    "model=load_model('model/crnn_net_gru_adam_ours_epoch_40.h5')"
   ]
  },
  {
   "cell_type": "code",
   "execution_count": null,
   "metadata": {},
   "outputs": [],
   "source": []
  }
 ],
 "metadata": {
  "kernelspec": {
   "display_name": "Python 3",
   "language": "python",
   "name": "python3"
  },
  "language_info": {
   "codemirror_mode": {
    "name": "ipython",
    "version": 3
   },
   "file_extension": ".py",
   "mimetype": "text/x-python",
   "name": "python",
   "nbconvert_exporter": "python",
   "pygments_lexer": "ipython3",
   "version": "3.6.4"
  }
 },
 "nbformat": 4,
 "nbformat_minor": 2
}
