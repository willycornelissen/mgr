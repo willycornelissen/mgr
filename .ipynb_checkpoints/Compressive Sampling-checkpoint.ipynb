{
 "cells": [
  {
   "cell_type": "code",
   "execution_count": 4,
   "metadata": {},
   "outputs": [
    {
     "name": "stderr",
     "output_type": "stream",
     "text": [
      "/home/willy/anaconda3/lib/python3.6/site-packages/h5py/__init__.py:36: FutureWarning: Conversion of the second argument of issubdtype from `float` to `np.floating` is deprecated. In future, it will be treated as `np.float64 == np.dtype(float).type`.\n",
      "  from ._conv import register_converters as _register_converters\n",
      "Using TensorFlow backend.\n"
     ]
    },
    {
     "ename": "ModuleNotFoundError",
     "evalue": "No module named 'cv2'",
     "output_type": "error",
     "traceback": [
      "\u001b[0;31m---------------------------------------------------------------------------\u001b[0m",
      "\u001b[0;31mModuleNotFoundError\u001b[0m                       Traceback (most recent call last)",
      "\u001b[0;32m<ipython-input-4-485c72ae7232>\u001b[0m in \u001b[0;36m<module>\u001b[0;34m()\u001b[0m\n\u001b[1;32m     11\u001b[0m \u001b[0;32mfrom\u001b[0m \u001b[0mkeras\u001b[0m\u001b[0;34m.\u001b[0m\u001b[0mmodels\u001b[0m \u001b[0;32mimport\u001b[0m \u001b[0mSequential\u001b[0m\u001b[0;34m,\u001b[0m \u001b[0mload_model\u001b[0m\u001b[0;34m\u001b[0m\u001b[0m\n\u001b[1;32m     12\u001b[0m \u001b[0;32mfrom\u001b[0m \u001b[0mkeras\u001b[0m\u001b[0;34m.\u001b[0m\u001b[0mcallbacks\u001b[0m \u001b[0;32mimport\u001b[0m \u001b[0mEarlyStopping\u001b[0m\u001b[0;34m\u001b[0m\u001b[0m\n\u001b[0;32m---> 13\u001b[0;31m \u001b[0;32mimport\u001b[0m \u001b[0mcv2\u001b[0m\u001b[0;34m\u001b[0m\u001b[0m\n\u001b[0m\u001b[1;32m     14\u001b[0m \u001b[0;32mimport\u001b[0m \u001b[0mmatplotlib\u001b[0m\u001b[0;34m.\u001b[0m\u001b[0mpyplot\u001b[0m \u001b[0;32mas\u001b[0m \u001b[0mplt\u001b[0m\u001b[0;34m\u001b[0m\u001b[0m\n\u001b[1;32m     15\u001b[0m \u001b[0;32mfrom\u001b[0m \u001b[0mPIL\u001b[0m \u001b[0;32mimport\u001b[0m \u001b[0mImage\u001b[0m\u001b[0;34m\u001b[0m\u001b[0m\n",
      "\u001b[0;31mModuleNotFoundError\u001b[0m: No module named 'cv2'"
     ]
    }
   ],
   "source": [
    "import numpy as np\n",
    "import pandas as pd\n",
    "import os\n",
    "import random\n",
    "from scipy.spatial import distance\n",
    "import keras\n",
    "from keras.utils import np_utils\n",
    "from keras.optimizers import SGD\n",
    "from keras.layers import Dense, Dropout, Flatten, Conv2D, MaxPooling2D\n",
    "from keras.optimizers import Adam\n",
    "from keras.models import Sequential, load_model\n",
    "from keras.callbacks import EarlyStopping\n",
    "import cv2\n",
    "import matplotlib.pyplot as plt\n",
    "from PIL import Image\n",
    "import csv"
   ]
  },
  {
   "cell_type": "code",
   "execution_count": null,
   "metadata": {},
   "outputs": [],
   "source": [
    "#  Train rate\n",
    "train = 0.7\n",
    "# Compute classification itr times\n",
    "print(\"\\n Start Classifying \\n\")"
   ]
  },
  {
   "cell_type": "code",
   "execution_count": 10,
   "metadata": {},
   "outputs": [],
   "source": [
    "class Classification:\n",
    "    \n",
    "    def __init__(self,Data):\n",
    "        Data = pd.read_csv(\"{0}\".format(Data),index_col=0)\n",
    "        self.Data = Data\n",
    "        \n",
    "    def mkdataset(self,train):\n",
    "        # Create random number \n",
    "        a = list(range(1,self.Data.shape[0]+1))\n",
    "        randomNum = random.sample(a, len(a))\n",
    "        d = {'random': randomNum}\n",
    "        randomNum = pd.DataFrame(data=d)\n",
    "        \n",
    "        # Sort by random numbers at the end\n",
    "        Data = pd.concat([self.Data, randomNum], axis=1)\n",
    "        Data = Data.sort_values(by=\"random\")\n",
    "        Data = Data.drop(\"random\", axis = 1)\n",
    "        \n",
    "        # Feature dimention\n",
    "        fdim = Data.shape[1]-1\n",
    "        \n",
    "        # Train/Test numbers\n",
    "        self.TrainNumber = round(Data.shape[0]*train)\n",
    "        self.TestNumber = Data.shape[0] - self.TrainNumber\n",
    "        \n",
    "        # Data/Label Separation\n",
    "        TrainData = Data.iloc[0:self.TrainNumber,0:fdim].values\n",
    "        self.TrainData = TrainData\n",
    "        TrainLabel = Data.iloc[0:self.TrainNumber,fdim].values\n",
    "        self.TrainLabel = TrainLabel\n",
    "        TestData = Data.iloc[self.TrainNumber:,0:fdim].values\n",
    "        self.TestData = TestData\n",
    "        TestLabel = Data.iloc[self.TrainNumber:,fdim].values\n",
    "        self.TestLabel = TestLabel\n",
    "        \n",
    "        Dataset = [TrainData,TrainLabel,TestData,TestLabel]\n",
    "        \n",
    "        return Dataset"
   ]
  },
  {
   "cell_type": "code",
   "execution_count": 11,
   "metadata": {},
   "outputs": [],
   "source": [
    "# Load data\n",
    "Target = Classification(\"data/csv/Data.csv\")\n",
    "# Make dataset with order randomisation\n",
    "Dataset = Target.mkdataset(train)\n",
    "# Classify\n",
    "#accuracykNN = Target.kNN(Dataset,5)\n",
    "accuracyMLP = Target.mlp(Dataset)\n",
    "#accuracyCNN = Target.cnn(\"Featuremap\")"
   ]
  },
  {
   "cell_type": "code",
   "execution_count": null,
   "metadata": {},
   "outputs": [],
   "source": []
  }
 ],
 "metadata": {
  "kernelspec": {
   "display_name": "Python 3",
   "language": "python",
   "name": "python3"
  },
  "language_info": {
   "codemirror_mode": {
    "name": "ipython",
    "version": 3
   },
   "file_extension": ".py",
   "mimetype": "text/x-python",
   "name": "python",
   "nbconvert_exporter": "python",
   "pygments_lexer": "ipython3",
   "version": "3.6.4"
  }
 },
 "nbformat": 4,
 "nbformat_minor": 2
}
